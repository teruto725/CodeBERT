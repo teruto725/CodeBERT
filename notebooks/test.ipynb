{
 "cells": [
  {
   "cell_type": "markdown",
   "metadata": {},
   "source": [
    "# 一回雑に使ってみる"
   ]
  },
  {
   "cell_type": "code",
   "execution_count": 1,
   "metadata": {},
   "outputs": [
    {
     "name": "stderr",
     "output_type": "stream",
     "text": [
      "/Users/akihito/.local/share/virtualenvs/CodeBERT-jLTtsSbs/lib/python3.9/site-packages/tqdm/auto.py:22: TqdmWarning: IProgress not found. Please update jupyter and ipywidgets. See https://ipywidgets.readthedocs.io/en/stable/user_install.html\n",
      "  from .autonotebook import tqdm as notebook_tqdm\n"
     ]
    }
   ],
   "source": [
    "import torch\n",
    "\n",
    "from transformers import RobertaTokenizer, RobertaConfig, RobertaModel\n",
    "\n"
   ]
  },
  {
   "cell_type": "code",
   "execution_count": 2,
   "metadata": {},
   "outputs": [
    {
     "name": "stderr",
     "output_type": "stream",
     "text": [
      "Downloading config.json: 100%|██████████| 504/504 [00:00<00:00, 229kB/s]\n",
      "Downloading pytorch_model.bin: 100%|██████████| 478M/478M [00:20<00:00, 23.9MB/s]    \n",
      "Downloading vocab.json: 100%|██████████| 878k/878k [00:01<00:00, 621kB/s]  \n",
      "Downloading merges.txt: 100%|██████████| 446k/446k [00:00<00:00, 640kB/s] \n",
      "Downloading special_tokens_map.json: 100%|██████████| 150/150 [00:00<00:00, 119kB/s]\n",
      "Downloading tokenizer_config.json: 100%|██████████| 25.0/25.0 [00:00<00:00, 11.5kB/s]\n"
     ]
    },
    {
     "name": "stdout",
     "output_type": "stream",
     "text": [
      "[{'score': 0.7236987352371216, 'token': 8, 'token_str': ' and', 'sequence': 'if (x is not None) and(x>1)'}, {'score': 0.10633771866559982, 'token': 359, 'token_str': ' &', 'sequence': 'if (x is not None) &(x>1)'}, {'score': 0.021604148671030998, 'token': 463, 'token_str': 'and', 'sequence': 'if (x is not None)and(x>1)'}, {'score': 0.021227585151791573, 'token': 4248, 'token_str': ' AND', 'sequence': 'if (x is not None) AND(x>1)'}, {'score': 0.016991348937153816, 'token': 114, 'token_str': ' if', 'sequence': 'if (x is not None) if(x>1)'}]\n"
     ]
    }
   ],
   "source": [
    "from transformers import RobertaConfig, RobertaTokenizer, RobertaForMaskedLM, pipeline\n",
    "model = RobertaForMaskedLM.from_pretrained(\"microsoft/codebert-base-mlm\")\n",
    "tokenizer = RobertaTokenizer.from_pretrained(\"microsoft/codebert-base-mlm\")\n",
    "\n",
    "CODE = \"if (x is not None) <mask> (x>1)\"\n",
    "fill_mask = pipeline('fill-mask', model=model, tokenizer=tokenizer)\n",
    "\n",
    "outputs = fill_mask(CODE)\n",
    "print(outputs)"
   ]
  },
  {
   "cell_type": "code",
   "execution_count": null,
   "metadata": {},
   "outputs": [],
   "source": []
  }
 ],
 "metadata": {
  "kernelspec": {
   "display_name": "Python 3.9.10 ('CodeBERT-jLTtsSbs')",
   "language": "python",
   "name": "python3"
  },
  "language_info": {
   "codemirror_mode": {
    "name": "ipython",
    "version": 3
   },
   "file_extension": ".py",
   "mimetype": "text/x-python",
   "name": "python",
   "nbconvert_exporter": "python",
   "pygments_lexer": "ipython3",
   "version": "3.9.10"
  },
  "orig_nbformat": 4,
  "vscode": {
   "interpreter": {
    "hash": "cb6b705a035926a8e0f5e937dbb38d290ab1b7453ea388834bb2db31240ab868"
   }
  }
 },
 "nbformat": 4,
 "nbformat_minor": 2
}
